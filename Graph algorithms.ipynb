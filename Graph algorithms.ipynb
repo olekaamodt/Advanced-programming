{
 "cells": [
  {
   "cell_type": "code",
   "execution_count": 79,
   "metadata": {},
   "outputs": [
    {
     "name": "stdout",
     "output_type": "stream",
     "text": [
      "{'Alex': ['Rama'], 'Rama': ['Adit'], 'Tom': ['Rama', 'Adit']}\n",
      "('Alex', 'Rama')\n",
      "('Rama', 'Adit')\n",
      "('Tom', 'Rama')\n",
      "('Tom', 'Adit')\n"
     ]
    },
    {
     "data": {
      "text/plain": [
       "'my_graph2 = Graph()\\nmy_graph2.add_edge(\"City 1\", \"City 2\")\\nmy_graph2.add_edge(\"City 1\", \"City 4\")\\nmy_graph2.add_edge(\"City 2\", \"City 3\")\\nmy_graph2.add_edge(\"City 3\", \"City 1\")\\nmy_graph2.add_edge(\"City 3\", \"City 4\")\\nmy_graph2.add_edge(\"City 4\", \"City 2\")\\nmy_graph2.depth_first_search(\"City 1\")'"
      ]
     },
     "execution_count": 79,
     "metadata": {},
     "output_type": "execute_result"
    }
   ],
   "source": [
    "class Graph:\n",
    "    graph = dict()\n",
    "    searched = []\n",
    "    \n",
    "    def add_edge(self, node, neighbour):\n",
    "        if node not in self.graph:\n",
    "            self.graph[node] = [neighbour]\n",
    "        else:\n",
    "            self.graph[node].append(neighbour)\n",
    "            \n",
    "    def print_graph(self):\n",
    "        print(self.graph)\n",
    "        \n",
    "    def print_edges(self):\n",
    "        for node in self.graph:\n",
    "            for neighbour in self.graph[node]:\n",
    "                print((node,neighbour))\n",
    "                \n",
    "    def breadth_first_search(self,node):\n",
    "        searched = []\n",
    "        search_queue = [node]\n",
    "        while search_queue:\n",
    "            searched.append(node)\n",
    "            node = search_queue.pop(0)\n",
    "            print(\"[ \", node, end = \" ], \")\n",
    "            \n",
    "            for neighbour in self.graph[node]:\n",
    "                if neighbour not in searched:\n",
    "                    searched.append(neighbour)\n",
    "                    search_queue.append(neighbour)\n",
    "    \n",
    "    def depth_first_search(self, node):\n",
    "        if node not in self.searched:\n",
    "            print(\"[ \", node, end=\" ],\")\n",
    "            \n",
    "            self.searched.append(node)\n",
    "            for neighbour in self.graph[node]:\n",
    "                self.depth_first_search(neighbour)\n",
    "            \n",
    "        \n",
    "my_graph = Graph()\n",
    "my_graph.add_edge(\"Alex\", \"Rama\")\n",
    "my_graph.add_edge(\"Rama\", \"Adit\")\n",
    "my_graph.add_edge(\"Tom\", \"Rama\")\n",
    "my_graph.add_edge(\"Tom\", \"Adit\")\n",
    "\n",
    "my_graph.print_graph()\n",
    "my_graph.print_edges()\n",
    "\n",
    "\"\"\"my_graph2 = Graph()\n",
    "my_graph2.add_edge(\"City 1\", \"City 2\")\n",
    "my_graph2.add_edge(\"City 1\", \"City 4\")\n",
    "my_graph2.add_edge(\"City 2\", \"City 3\")\n",
    "my_graph2.add_edge(\"City 3\", \"City 1\")\n",
    "my_graph2.add_edge(\"City 3\", \"City 4\")\n",
    "my_graph2.add_edge(\"City 4\", \"City 2\")\n",
    "my_graph2.depth_first_search(\"City 1\")\"\"\""
   ]
  },
  {
   "cell_type": "code",
   "execution_count": 47,
   "metadata": {},
   "outputs": [
    {
     "name": "stdout",
     "output_type": "stream",
     "text": [
      "[  0 ], [  1 ], [  2 ], [  3 ], [  4 ], None\n",
      "[  0 ],[  1 ],[  3 ],[  4 ],[  2 ],None\n"
     ]
    }
   ],
   "source": [
    "def build_graph():\n",
    "    my_graph = Graph()\n",
    "    my_graph.add_edge(0,1)\n",
    "    my_graph.add_edge(0,2)\n",
    "    my_graph.add_edge(0,3)\n",
    "    my_graph.add_edge(1,3)\n",
    "    my_graph.add_edge(2,3)\n",
    "    my_graph.add_edge(3,4)\n",
    "    my_graph.add_edge(4,1)\n",
    "    \n",
    "    print(my_graph.breadth_first_search(0))\n",
    "    \n",
    "    print(my_graph.depth_first_search(0))\n",
    "    \n",
    "build_graph()"
   ]
  },
  {
   "cell_type": "code",
   "execution_count": 68,
   "metadata": {},
   "outputs": [],
   "source": [
    "class Graph2:\n",
    "    graph = dict()\n",
    "    \n",
    "    def dijkstra(self):\n",
    "        visited = []\n",
    "        node = self.find_lowest_cost(visited)\n",
    "        \n",
    "        while node is not None:\n",
    "            print(\"[ \", node, end=\" ],\")\n",
    "            cost = self.costs[node]\n",
    "            neighbours = self.graph[node]\n",
    "            \n",
    "            for n in neighbours.keys():\n",
    "                new_cost = cost + neighbours[n]\n",
    "                if self.costs[n] > new_cost:\n",
    "                    self.costs[n] = new_cost\n",
    "            visited.append(node)\n",
    "            node = self.find_lowest_cost(visited)\n",
    "    \n",
    "    def find_lowest_cost(self, visited):\n",
    "        lowest_cost = float(\"inf\")\n",
    "        lowest_cost_node = None\n",
    "        \n",
    "        for node in self.costs:\n",
    "            cost = self.costs[node]\n",
    "            if cost < lowest_cost and node not in visited:\n",
    "                lowest_cost = cost\n",
    "                lowest_cost_node = node\n",
    "        return lowest_cost_node\n",
    "    \n",
    "    def set_costs(self, costs):\n",
    "        self.costs = costs"
   ]
  },
  {
   "cell_type": "code",
   "execution_count": 69,
   "metadata": {},
   "outputs": [
    {
     "name": "stdout",
     "output_type": "stream",
     "text": [
      "[  B ],[  A ],[  finish ],"
     ]
    }
   ],
   "source": [
    "g2 = Graph2()\n",
    "\n",
    "my_graph3 = g2.graph\n",
    "my_graph3[\"start\"] = {\"A\":6, \"B\":2}\n",
    "my_graph3[\"A\"] = {\"finish\":1}\n",
    "my_graph3[\"B\"] = {\"A\":3, \"finish\":5}\n",
    "my_graph3[\"finish\"] = {}\n",
    "\n",
    "costs = {\"A\": 6, \"B\":2, \"finish\": float(\"inf\")}\n",
    "g2.set_costs(costs)\n",
    "g2.dijkstra()\n"
   ]
  },
  {
   "cell_type": "code",
   "execution_count": 72,
   "metadata": {},
   "outputs": [],
   "source": [
    "class BinaryTree:\n",
    "    def __init__(self, value):\n",
    "        self.value = value\n",
    "        self.left_child = None\n",
    "        self.right_child = None\n",
    "        \n",
    "    def insert_left(self, value):\n",
    "        if self.left_child is None:\n",
    "            self.left_child = BinaryTree(value)\n",
    "        else:\n",
    "            new_node = BinaryTree(value)\n",
    "            new_node.left_child = self.left_child\n",
    "            self.left_child = new_node\n",
    "    \n",
    "    def insert_right(self, value):\n",
    "        if self.right_child is None:\n",
    "            self.right_child = BinaryTree(value)\n",
    "        else: \n",
    "            new_node = BinaryTree(value)\n",
    "            new_node.right_child = self.right_child\n",
    "            self.right_child = new_node\n"
   ]
  },
  {
   "cell_type": "code",
   "execution_count": 74,
   "metadata": {},
   "outputs": [],
   "source": [
    "node_a = BinaryTree(\"a\")\n",
    "\n",
    "node_a.insert_left(\"b\")\n",
    "node_a.insert_right(\"c\")\n",
    "\n",
    "node_b = node_a.left_child\n",
    "node_b.insert_left(\"d\")\n",
    "node_b.insert_right(\"e\")\n",
    "\n",
    "node_c = node_a.right_child\n",
    "node_c.insert_left(\"f\")\n",
    "node_c.insert_right(\"g\")\n",
    "\n",
    "node_d = node_b.left_child\n",
    "node_e = node_b.right_child\n",
    "node_f = node_c.left_child\n",
    "node_g = node_c.right_child"
   ]
  },
  {
   "cell_type": "code",
   "execution_count": 78,
   "metadata": {},
   "outputs": [
    {
     "name": "stdout",
     "output_type": "stream",
     "text": [
      "sorted:  [1, 4, 12, 23, 29, 37, 60, 71, 84, 100]\n"
     ]
    }
   ],
   "source": [
    "#heap sort\n",
    "def heap_sort(arr):\n",
    "    size = len(arr)\n",
    "    \n",
    "    for i in range(size, 0, -1):\n",
    "        heapify(arr, size, i)\n",
    "        \n",
    "    for i in range(size - 1, 0, -1):\n",
    "        arr[i], arr[0] = arr[0], arr[i]\n",
    "        heapify(arr, i, 0)\n",
    "        \n",
    "def heapify(array, n, i):\n",
    "    maximum = i\n",
    "    left = 2 * i + 1\n",
    "    right = 2 * i + 2\n",
    "    \n",
    "    if left < n and array[i] < array[left]:\n",
    "        maximum = left\n",
    "        \n",
    "    if right < n and array[maximum] < array[right]:\n",
    "        maximum = right\n",
    "        \n",
    "    if maximum != i:\n",
    "        array[i], array[maximum] = array[maximum], array[i]\n",
    "        \n",
    "        heapify(array, n, maximum)\n",
    "        \n",
    "my_array = [100,84,71,60,23,12,29,1,37,4]\n",
    "heap_sort(my_array)\n",
    "print(\"sorted: \", my_array)"
   ]
  },
  {
   "cell_type": "code",
   "execution_count": null,
   "metadata": {},
   "outputs": [],
   "source": []
  }
 ],
 "metadata": {
  "kernelspec": {
   "display_name": "Python 3",
   "language": "python",
   "name": "python3"
  },
  "language_info": {
   "codemirror_mode": {
    "name": "ipython",
    "version": 3
   },
   "file_extension": ".py",
   "mimetype": "text/x-python",
   "name": "python",
   "nbconvert_exporter": "python",
   "pygments_lexer": "ipython3",
   "version": "3.7.4"
  }
 },
 "nbformat": 4,
 "nbformat_minor": 2
}
