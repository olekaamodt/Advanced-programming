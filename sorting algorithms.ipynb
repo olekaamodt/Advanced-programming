{
 "cells": [
  {
   "cell_type": "code",
   "execution_count": 1,
   "metadata": {},
   "outputs": [],
   "source": [
    "class Node:\n",
    "    def __init__(self, data):\n",
    "        self.data = data\n",
    "        self.next = None\n",
    "        self.prev = None"
   ]
  },
  {
   "cell_type": "code",
   "execution_count": 85,
   "metadata": {},
   "outputs": [],
   "source": [
    "class Queue:\n",
    "    def __init__(self):\n",
    "        self.head = None\n",
    "        self.last = None\n",
    "    def enqueue(self,data):\n",
    "        if self.last is None:\n",
    "            self.head = Node(data)\n",
    "            self.last = self.head\n",
    "        else: \n",
    "            self.last.next = Node(data)\n",
    "            self.last.next.prev = self.last\n",
    "            self.last = self.last.next\n",
    "    def dequeue(self):\n",
    "        if self.head is None:\n",
    "            return None\n",
    "        else:\n",
    "            temp = self.head.data\n",
    "            self.head = self.head.next\n",
    "            self.head.prev = None\n",
    "            return temp\n",
    "    def size(self):\n",
    "        temp = self.head\n",
    "        count = 0\n",
    "        while temp is not None:\n",
    "            count = count +1\n",
    "            temp = temp.next\n",
    "        return count\n",
    "        \n",
    "    def is_empty(self):\n",
    "        return self.head == None\n"
   ]
  },
  {
   "cell_type": "code",
   "execution_count": 92,
   "metadata": {},
   "outputs": [],
   "source": [
    "my_queue = Queue()\n",
    "my_queue.enqueue(\"A\")\n",
    "my_queue.enqueue(\"B\")\n",
    "my_queue.enqueue(\"C\")\n"
   ]
  },
  {
   "cell_type": "code",
   "execution_count": 87,
   "metadata": {},
   "outputs": [],
   "source": [
    "class Stack:\n",
    "    def __init__(self):\n",
    "        self.items = []\n",
    "        \n",
    "    def is_empty(self):\n",
    "        return self.items == []\n",
    "    def push(self,item):\n",
    "        self.items.append(item)\n",
    "    def pop(self):\n",
    "        return self.items.pop()\n",
    "    def peek(self):\n",
    "        return self.item[len(sel.item)-1]\n",
    "    def size(self):\n",
    "        return len(self.items)\n",
    "        "
   ]
  },
  {
   "cell_type": "code",
   "execution_count": 88,
   "metadata": {},
   "outputs": [],
   "source": [
    "def rev_queue(queue):\n",
    "    my_stack = Stack()\n",
    "    rev_queue = Queue()\n",
    "    while not queue.is_empty():\n",
    "        my_stack.push(queue.dequeue())\n",
    "    while not my_stack.is_empty():\n",
    "        rev_queue.enqueue(my_stack.pop())\n",
    "    return rev_queue.size()\n"
   ]
  },
  {
   "cell_type": "code",
   "execution_count": 93,
   "metadata": {},
   "outputs": [
    {
     "ename": "AttributeError",
     "evalue": "'NoneType' object has no attribute 'prev'",
     "output_type": "error",
     "traceback": [
      "\u001b[1;31m---------------------------------------------------------------------------\u001b[0m",
      "\u001b[1;31mAttributeError\u001b[0m                            Traceback (most recent call last)",
      "\u001b[1;32m<ipython-input-93-23a1a961149a>\u001b[0m in \u001b[0;36m<module>\u001b[1;34m\u001b[0m\n\u001b[1;32m----> 1\u001b[1;33m \u001b[0mprint\u001b[0m\u001b[1;33m(\u001b[0m\u001b[0mrev_queue\u001b[0m\u001b[1;33m(\u001b[0m\u001b[0mmy_queue\u001b[0m\u001b[1;33m)\u001b[0m\u001b[1;33m)\u001b[0m\u001b[1;33m\u001b[0m\u001b[1;33m\u001b[0m\u001b[0m\n\u001b[0m",
      "\u001b[1;32m<ipython-input-88-89df2fb3b2c7>\u001b[0m in \u001b[0;36mrev_queue\u001b[1;34m(queue)\u001b[0m\n\u001b[0;32m      3\u001b[0m     \u001b[0mrev_queue\u001b[0m \u001b[1;33m=\u001b[0m \u001b[0mQueue\u001b[0m\u001b[1;33m(\u001b[0m\u001b[1;33m)\u001b[0m\u001b[1;33m\u001b[0m\u001b[1;33m\u001b[0m\u001b[0m\n\u001b[0;32m      4\u001b[0m     \u001b[1;32mwhile\u001b[0m \u001b[1;32mnot\u001b[0m \u001b[0mqueue\u001b[0m\u001b[1;33m.\u001b[0m\u001b[0mis_empty\u001b[0m\u001b[1;33m(\u001b[0m\u001b[1;33m)\u001b[0m\u001b[1;33m:\u001b[0m\u001b[1;33m\u001b[0m\u001b[1;33m\u001b[0m\u001b[0m\n\u001b[1;32m----> 5\u001b[1;33m         \u001b[0mmy_stack\u001b[0m\u001b[1;33m.\u001b[0m\u001b[0mpush\u001b[0m\u001b[1;33m(\u001b[0m\u001b[0mqueue\u001b[0m\u001b[1;33m.\u001b[0m\u001b[0mdequeue\u001b[0m\u001b[1;33m(\u001b[0m\u001b[1;33m)\u001b[0m\u001b[1;33m)\u001b[0m\u001b[1;33m\u001b[0m\u001b[1;33m\u001b[0m\u001b[0m\n\u001b[0m\u001b[0;32m      6\u001b[0m     \u001b[1;32mwhile\u001b[0m \u001b[1;32mnot\u001b[0m \u001b[0mmy_stack\u001b[0m\u001b[1;33m.\u001b[0m\u001b[0mis_empty\u001b[0m\u001b[1;33m(\u001b[0m\u001b[1;33m)\u001b[0m\u001b[1;33m:\u001b[0m\u001b[1;33m\u001b[0m\u001b[1;33m\u001b[0m\u001b[0m\n\u001b[0;32m      7\u001b[0m         \u001b[0mrev_queue\u001b[0m\u001b[1;33m.\u001b[0m\u001b[0menqueue\u001b[0m\u001b[1;33m(\u001b[0m\u001b[0mmy_stack\u001b[0m\u001b[1;33m.\u001b[0m\u001b[0mpop\u001b[0m\u001b[1;33m(\u001b[0m\u001b[1;33m)\u001b[0m\u001b[1;33m)\u001b[0m\u001b[1;33m\u001b[0m\u001b[1;33m\u001b[0m\u001b[0m\n",
      "\u001b[1;32m<ipython-input-85-5fc87033deed>\u001b[0m in \u001b[0;36mdequeue\u001b[1;34m(self)\u001b[0m\n\u001b[0;32m     18\u001b[0m             \u001b[0mtemp\u001b[0m \u001b[1;33m=\u001b[0m \u001b[0mself\u001b[0m\u001b[1;33m.\u001b[0m\u001b[0mhead\u001b[0m\u001b[1;33m.\u001b[0m\u001b[0mdata\u001b[0m\u001b[1;33m\u001b[0m\u001b[1;33m\u001b[0m\u001b[0m\n\u001b[0;32m     19\u001b[0m             \u001b[0mself\u001b[0m\u001b[1;33m.\u001b[0m\u001b[0mhead\u001b[0m \u001b[1;33m=\u001b[0m \u001b[0mself\u001b[0m\u001b[1;33m.\u001b[0m\u001b[0mhead\u001b[0m\u001b[1;33m.\u001b[0m\u001b[0mnext\u001b[0m\u001b[1;33m\u001b[0m\u001b[1;33m\u001b[0m\u001b[0m\n\u001b[1;32m---> 20\u001b[1;33m             \u001b[0mself\u001b[0m\u001b[1;33m.\u001b[0m\u001b[0mhead\u001b[0m\u001b[1;33m.\u001b[0m\u001b[0mprev\u001b[0m \u001b[1;33m=\u001b[0m \u001b[1;32mNone\u001b[0m\u001b[1;33m\u001b[0m\u001b[1;33m\u001b[0m\u001b[0m\n\u001b[0m\u001b[0;32m     21\u001b[0m             \u001b[1;32mreturn\u001b[0m \u001b[0mtemp\u001b[0m\u001b[1;33m\u001b[0m\u001b[1;33m\u001b[0m\u001b[0m\n\u001b[0;32m     22\u001b[0m     \u001b[1;32mdef\u001b[0m \u001b[0msize\u001b[0m\u001b[1;33m(\u001b[0m\u001b[0mself\u001b[0m\u001b[1;33m)\u001b[0m\u001b[1;33m:\u001b[0m\u001b[1;33m\u001b[0m\u001b[1;33m\u001b[0m\u001b[0m\n",
      "\u001b[1;31mAttributeError\u001b[0m: 'NoneType' object has no attribute 'prev'"
     ]
    }
   ],
   "source": [
    "print(rev_queue(my_queue))"
   ]
  },
  {
   "cell_type": "code",
   "execution_count": 2,
   "metadata": {},
   "outputs": [
    {
     "name": "stdout",
     "output_type": "stream",
     "text": [
      "[1600]\n",
      "[1600, 1700]\n",
      "[1600, 1700, 1800]\n",
      "[1600, 1700, 1800, 1900]\n",
      "[1600, 1700, 1800, 1900, 2020]\n",
      "sorted [1600, 1700, 1800, 1900, 2020]\n"
     ]
    }
   ],
   "source": [
    "#selection sort\n",
    "def find_smallest(arr):\n",
    "    smallest = arr[0]\n",
    "    smallest_index = 0\n",
    "    for i in range(1, len(arr)):\n",
    "        if arr[i] < smallest:\n",
    "            smallest = arr[i]\n",
    "            smallest_index = i\n",
    "    return smallest_index\n",
    "\n",
    "def selection_sort(arr):\n",
    "    new_arr = []\n",
    "    for i in range(len(arr)):\n",
    "        smallest = find_smallest(arr)\n",
    "        new_arr.append(arr.pop(smallest))\n",
    "        print(new_arr)\n",
    "    return new_arr\n",
    "\n",
    "test = [1700, 2020, 1800, 1600, 1900]\n",
    "print(f\"sorted {selection_sort(test)}\")"
   ]
  },
  {
   "cell_type": "code",
   "execution_count": 1,
   "metadata": {},
   "outputs": [
    {
     "ename": "SyntaxError",
     "evalue": "invalid syntax (<ipython-input-1-fd156037452d>, line 3)",
     "output_type": "error",
     "traceback": [
      "\u001b[1;36m  File \u001b[1;32m\"<ipython-input-1-fd156037452d>\"\u001b[1;36m, line \u001b[1;32m3\u001b[0m\n\u001b[1;33m    for i in range(1, len(arr))\u001b[0m\n\u001b[1;37m                               ^\u001b[0m\n\u001b[1;31mSyntaxError\u001b[0m\u001b[1;31m:\u001b[0m invalid syntax\n"
     ]
    }
   ],
   "source": [
    "#insertion sort\n",
    "def insertion_sort(arr):\n",
    "    for i in range(1, len(arr))\n",
    "    key = arr[i]\n",
    "    j = i - 1\n",
    "    \n",
    "    while j >= 0 and key < arr[j]:\n",
    "        arr[j + 1] = arr[j]\n",
    "        j -=1\n",
    "    arr[j + 1] = key\n",
    "\n"
   ]
  },
  {
   "cell_type": "code",
   "execution_count": 2,
   "metadata": {},
   "outputs": [
    {
     "name": "stdout",
     "output_type": "stream",
     "text": [
      "[1, 2, 3, 4, 5, 6, 7, 8, 9]\n"
     ]
    }
   ],
   "source": [
    "#bubble sort\n",
    "def bubble_sort(arr):\n",
    "    for pass_num in range(len(arr) - 1, 0, -1):\n",
    "        for i in range(pass_num):\n",
    "            if arr[i] > arr[i + 1]:\n",
    "                temp = arr[i]\n",
    "                arr[i] = arr[i+1]\n",
    "                arr[i+1] = temp\n",
    "music_count = [9,8,7,6,5,4,3,2,1]\n",
    "bubble_sort(music_count)\n",
    "print(music_count)"
   ]
  },
  {
   "cell_type": "code",
   "execution_count": 1,
   "metadata": {},
   "outputs": [
    {
     "name": "stdout",
     "output_type": "stream",
     "text": [
      "[('dolittle', 5.5), ('Birds of prey', 6, 5), ('falling', 7.5), ('Bad boys', 7.2), ('The gentlemen', 8.1)]\n",
      "[('dolittle', 5.5), ('Birds of prey', 6, 5), ('Bad boys', 7.2), ('falling', 7.5), ('The gentlemen', 8.1)]\n",
      "[('dolittle', 5.5), ('Birds of prey', 6, 5), ('Bad boys', 7.2), ('falling', 7.5), ('The gentlemen', 8.1)]\n",
      "[('dolittle', 5.5), ('Birds of prey', 6, 5), ('Bad boys', 7.2), ('falling', 7.5), ('The gentlemen', 8.1)]\n",
      "[('dolittle', 5.5), ('Birds of prey', 6, 5), ('Bad boys', 7.2), ('falling', 7.5), ('The gentlemen', 8.1)]\n"
     ]
    }
   ],
   "source": [
    "def bubble_sort_tuple(arr):\n",
    "    for pass_num in range(len(arr) - 1, 0, -1):\n",
    "        for i in range(pass_num):\n",
    "            if arr[i][1] > arr[i + 1][1]:\n",
    "                temp = arr[i]\n",
    "                arr[i] = arr[i+1]\n",
    "                arr[i+1] = temp\n",
    "        print(arr)\n",
    "tuple_list = [(\"Birds of prey\", 6,5),(\"dolittle\",5.5), (\"The gentlemen\",8.1),(\"falling\",7.5),(\"Bad boys\",7.2)]\n",
    "bubble_sort_tuple(tuple_list)\n",
    "print(tuple_list)"
   ]
  },
  {
   "cell_type": "code",
   "execution_count": 34,
   "metadata": {},
   "outputs": [
    {
     "name": "stdout",
     "output_type": "stream",
     "text": [
      "[1, 2, 3, 4, 5, 6, 7, 8, 9]\n"
     ]
    }
   ],
   "source": [
    "#quick sort\n",
    "def quick_sort(arr):\n",
    "    if len(arr) <2:\n",
    "        return arr\n",
    "    else:\n",
    "        pivot = arr[0]\n",
    "        less = [i for i in arr[1:] if i <= pivot]\n",
    "        greater = [i for i in arr[1:] if i > pivot]\n",
    "        return quick_sort(less) + [pivot] + quick_sort(greater)\n",
    "music_count = [5,8,7,6,9,4,3,2,1]\n",
    "music_sorted = quick_sort(music_count)\n",
    "print(music_sorted)"
   ]
  },
  {
   "cell_type": "code",
   "execution_count": 4,
   "metadata": {},
   "outputs": [
    {
     "name": "stdout",
     "output_type": "stream",
     "text": [
      "[1, 2, 4, 5, 6, 7, 9]\n"
     ]
    }
   ],
   "source": [
    "#merge sort\n",
    "def merge_sort(arr):\n",
    "    if len(arr) > 1:\n",
    "        mid = len(arr) // 2\n",
    "        left = arr[:mid]\n",
    "        right = arr[mid:]\n",
    "        merge_sort(left)\n",
    "        merge_sort(right)\n",
    "        \n",
    "        i = j = k = 0\n",
    "        while i < len(left) and j < len(right):\n",
    "            if left[i] < right[j]:\n",
    "                arr[k] = left[i]\n",
    "                i+=1\n",
    "            else:\n",
    "                arr[k] = right[j]\n",
    "                j+=1\n",
    "            k += 1\n",
    "        while i < len(left):\n",
    "            arr[k] = left[i]\n",
    "            i += 1\n",
    "            k += 1\n",
    "        while j < len(right):\n",
    "            arr[k] = right[j]\n",
    "            j += 1\n",
    "            k += 1\n",
    "            \n",
    "merge_list = [9,4,6,1,7,2,5]\n",
    "merge_sort(merge_list)\n",
    "print(merge_list)"
   ]
  },
  {
   "cell_type": "code",
   "execution_count": null,
   "metadata": {},
   "outputs": [],
   "source": []
  }
 ],
 "metadata": {
  "kernelspec": {
   "display_name": "Python 3",
   "language": "python",
   "name": "python3"
  },
  "language_info": {
   "codemirror_mode": {
    "name": "ipython",
    "version": 3
   },
   "file_extension": ".py",
   "mimetype": "text/x-python",
   "name": "python",
   "nbconvert_exporter": "python",
   "pygments_lexer": "ipython3",
   "version": "3.7.4"
  }
 },
 "nbformat": 4,
 "nbformat_minor": 2
}
