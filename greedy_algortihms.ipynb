{
 "cells": [
  {
   "cell_type": "code",
   "execution_count": null,
   "metadata": {},
   "outputs": [],
   "source": [
    "states_needed = {\"ma\",\"wa\", \"or\",\"id\", \"nv\", \"ut\", \"ca\", \"az\"}\n",
    "stations = dict()\n",
    "stations[\"k1\"] = {\"id\", \"nv\", \"ut\"}\n",
    "stations[\"k2\"] = {\"wa\", \"id\", \"mt\"}\n",
    "stations[\"k3\"] = {\"or\",\"nv\",\"ca\"}\n",
    "stations[\"k4\"] = {\"nv\",\"ut\"}\n",
    "stations[\"k5\"] = {\"ca\", \"az\"}\n",
    "\n",
    "\n",
    "def find_states(states_needed, stations):\n",
    "    final_stations = set()\n",
    "    while states_needed:\n",
    "        best_station = None\n",
    "        states_covered = set()\n",
    "        for station, states_for_station in stations.items():\n",
    "            covered = states_needed & states_for_station\n",
    "            if len(covered) > len(states_covered):\n",
    "                best_station = station\n",
    "                states_covered = covered\n",
    "        states_needed -= states_covered\n",
    "        final_stations.add(best_station)\n",
    "    print({final_stations})\n",
    "    \n",
    "find_states(states_needed, stations)"
   ]
  },
  {
   "cell_type": "code",
   "execution_count": 5,
   "metadata": {},
   "outputs": [
    {
     "name": "stdout",
     "output_type": "stream",
     "text": [
      "it takes 4.999999418942025e-07 seconds to run the code\n"
     ]
    }
   ],
   "source": [
    "import timeit\n",
    "my_code = \"\"\"def fib(n):\n",
    "            if n == 0 or n == 1:\n",
    "                return n\n",
    "            else:\n",
    "                return fib(n-1) + fib(n-2)\n",
    "            print(\"the 40th number is: \", fib(40))\"\"\"\n",
    "        \n",
    "time = timeit.timeit(stmt=my_code, number=1)\n",
    "print(f\"it takes {time} seconds to run the code\")"
   ]
  },
  {
   "cell_type": "code",
   "execution_count": 13,
   "metadata": {},
   "outputs": [
    {
     "name": "stdout",
     "output_type": "stream",
     "text": [
      "102334155\n"
     ]
    }
   ],
   "source": [
    "#finding the fibonacci number of n with recursion\n",
    "def fib2(n):\n",
    "    memo = [0] * (n+1)\n",
    "    memo[0], memo[1] = 0,1\n",
    "    for i in range(2, n + 1):\n",
    "        memo[i] = memo[i - 1] + memo[i - 2]\n",
    "    return memo[n]\n",
    "\n",
    "print(fib2(40))\n"
   ]
  },
  {
   "cell_type": "code",
   "execution_count": 14,
   "metadata": {},
   "outputs": [
    {
     "name": "stdout",
     "output_type": "stream",
     "text": [
      "3500\n"
     ]
    }
   ],
   "source": [
    "def knapsack_rec(capacity, weights, values, n):\n",
    "    if n == 0 or capacity == 0:\n",
    "        return 0\n",
    "    elif weights [n-1] > capacity:\n",
    "        return knapsack_rec(capacity, weights, values, n - 1)\n",
    "    else:\n",
    "        tmp1 = knapsack_rec(capacity, weights, values, n-1)\n",
    "        \n",
    "        tmp2 = values[n-1] + knapsack_rec(capacity - weights[n-1], weights, values, n-1)\n",
    "        return max(tmp1,tmp2)\n",
    "    \n",
    "item_val = [3000, 2000, 1500]\n",
    "item_wt = [4,3,1]\n",
    "total_cap = 4\n",
    "n_items = len(item_val)\n",
    "print(knapsack_rec(total_cap, item_wt, item_val, n_items))"
   ]
  },
  {
   "cell_type": "code",
   "execution_count": 4,
   "metadata": {},
   "outputs": [
    {
     "name": "stdout",
     "output_type": "stream",
     "text": [
      "3500\n"
     ]
    }
   ],
   "source": [
    "def knapsack_dp(capacity, weights, values, n):\n",
    "    grid = [[0 for x in range(capacity + 1)]\n",
    "        for x in range(n + 1)]\n",
    "    \n",
    "    for item in range(n + 1):\n",
    "        for cap in range(capacity + 1):\n",
    "            if item == 0 or cap == 0:\n",
    "                grid[item][cap] = 0\n",
    "            elif weights[item - 1] <= cap:\n",
    "                grid[item][cap] = max(values[item - 1] + grid[item - 1][cap - weights[item - 1]], grid[item - 1][cap])\n",
    "            else:\n",
    "                grid[item][cap] = grid[item- 1][cap]\n",
    "    return grid[n][capacity]\n",
    "\n",
    "item_val = [3000, 2000, 1500]\n",
    "item_wt = [4,3,1]\n",
    "total_cap = 4\n",
    "n_items = len(item_val)\n",
    "print(knapsack_dp(total_cap, item_wt,item_val, n_items))"
   ]
  },
  {
   "cell_type": "code",
   "execution_count": null,
   "metadata": {},
   "outputs": [],
   "source": []
  }
 ],
 "metadata": {
  "kernelspec": {
   "display_name": "Python 3",
   "language": "python",
   "name": "python3"
  },
  "language_info": {
   "codemirror_mode": {
    "name": "ipython",
    "version": 3
   },
   "file_extension": ".py",
   "mimetype": "text/x-python",
   "name": "python",
   "nbconvert_exporter": "python",
   "pygments_lexer": "ipython3",
   "version": "3.7.4"
  }
 },
 "nbformat": 4,
 "nbformat_minor": 2
}
