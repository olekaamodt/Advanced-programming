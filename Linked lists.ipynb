{
 "cells": [
  {
   "cell_type": "code",
   "execution_count": 24,
   "metadata": {},
   "outputs": [],
   "source": [
    "#doubly linked list is al ist that have next and prev\n",
    "class Node:\n",
    "    def __init__(self, data):\n",
    "        self.data = data\n",
    "        self.next = None\n",
    "        self.prev = None\n",
    "\n",
    "class SinglyLinkedList:\n",
    "    def __init__(self):\n",
    "        self.head = None\n",
    "    \n",
    "    def is_empty(self):\n",
    "        return self.head == None\n",
    "    \n",
    "    def add(self, data):\n",
    "        temp = Node(data)\n",
    "        temp.next = self.head\n",
    "        self.head = temp\n",
    "    \n",
    "    def search(self, data):\n",
    "        current = self.head\n",
    "        found = False\n",
    "        while current and not found:\n",
    "            if current.data == data:\n",
    "                found = True\n",
    "            else:\n",
    "                current = current.next\n",
    "        \n",
    "        return found\n",
    "                \n",
    "    def size(self):\n",
    "        current = self.head\n",
    "        size = 0\n",
    "        while current:\n",
    "            size += 1\n",
    "            current = current.next\n",
    "            \n",
    "        return size\n",
    "                \n",
    "       \n",
    "        \n",
    "    "
   ]
  },
  {
   "cell_type": "code",
   "execution_count": 25,
   "metadata": {},
   "outputs": [],
   "source": [
    "class DoublyLinkedList:\n",
    "    def __init__(self):\n",
    "        self.head = None\n",
    "        self.last = None\n",
    "    \n",
    "    def is_empty(self):\n",
    "        return self.head == None\n",
    "    \n",
    "    def add(self, data):\n",
    "        temp = Node(data)\n",
    "        temp.next = self.head\n",
    "        temp.prev = self.last\n",
    "        self.head = temp\n",
    "    \n",
    "    def search(self, data):\n",
    "        current = self.head\n",
    "        found = False\n",
    "        while current and not found:\n",
    "            if current.data == data:\n",
    "                found = True\n",
    "            else:\n",
    "                current = current.next\n",
    "        \n",
    "        return found\n",
    "                \n",
    "    def size(self):\n",
    "        current = self.head\n",
    "        size = 0\n",
    "        while current:\n",
    "            size += 1\n",
    "            current = current.next\n",
    "            \n",
    "        return size"
   ]
  },
  {
   "cell_type": "code",
   "execution_count": 27,
   "metadata": {},
   "outputs": [
    {
     "name": "stdout",
     "output_type": "stream",
     "text": [
      "node3 is 3\n",
      "True\n",
      "4\n"
     ]
    }
   ],
   "source": [
    "node1 = Node(\"1\")\n",
    "node2 = Node(\"2\")\n",
    "node3 = Node(\"3\")\n",
    "\n",
    "number_list = DoublyLinkedList()\n",
    "number_list.head = node1\n",
    "node1.next = node2\n",
    "node2.next = node3\n",
    "node2.prev = node1\n",
    "node3.prev = node2\n",
    "print(\"node3 is\", number_list.head.next.next.data)\n",
    "number_list.add(\"4\")\n",
    "print(number_list.search(\"4\"))\n",
    "print(number_list.size())"
   ]
  },
  {
   "cell_type": "code",
   "execution_count": null,
   "metadata": {},
   "outputs": [],
   "source": []
  }
 ],
 "metadata": {
  "kernelspec": {
   "display_name": "Python 3.8.1 64-bit",
   "language": "python",
   "name": "python38164bit08b0558196934a668e7733855a82e292"
  },
  "language_info": {
   "codemirror_mode": {
    "name": "ipython",
    "version": 3
   },
   "file_extension": ".py",
   "mimetype": "text/x-python",
   "name": "python",
   "nbconvert_exporter": "python",
   "pygments_lexer": "ipython3",
   "version": "3.8.1"
  }
 },
 "nbformat": 4,
 "nbformat_minor": 2
}
