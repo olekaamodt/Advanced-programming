{
 "cells": [
  {
   "cell_type": "code",
   "execution_count": 2,
   "metadata": {},
   "outputs": [
    {
     "name": "stdout",
     "output_type": "stream",
     "text": [
      "True\n"
     ]
    }
   ],
   "source": [
    "#sequence search\n",
    "def sequencial_search(a_list, item):\n",
    "    pos = 0\n",
    "    found = False\n",
    "    while pos < len(a_list) and not found:\n",
    "        if a_list[pos] == item:\n",
    "            found = True\n",
    "        else:\n",
    "            pos = pos + 1\n",
    "    return found\n",
    "\n",
    "my_list = [1,2,3,4,5,6,7,8,9]\n",
    "print(sequencial_search(my_list, 1))\n",
    "      "
   ]
  },
  {
   "cell_type": "code",
   "execution_count": 4,
   "metadata": {},
   "outputs": [
    {
     "name": "stdout",
     "output_type": "stream",
     "text": [
      "True\n"
     ]
    }
   ],
   "source": [
    "#binary search\n",
    "#funker bare på sorterte lister\n",
    "def binary_search(a_list, item):\n",
    "    begin = 0\n",
    "    end = len(a_list) - 1\n",
    "    found = False\n",
    "    while begin <= end and not found:\n",
    "        mid = (begin + end) // 2\n",
    "        if a_list[mid] > item:\n",
    "            end = mid - 1\n",
    "        elif a_list[mid] < item: \n",
    "            begin = mid + 1\n",
    "        else: \n",
    "            found = True\n",
    "    return found\n",
    "\n",
    "print(binary_search(my_list, 1))"
   ]
  },
  {
   "cell_type": "code",
   "execution_count": null,
   "metadata": {},
   "outputs": [],
   "source": []
  }
 ],
 "metadata": {
  "kernelspec": {
   "display_name": "Python 3",
   "language": "python",
   "name": "python3"
  },
  "language_info": {
   "codemirror_mode": {
    "name": "ipython",
    "version": 3
   },
   "file_extension": ".py",
   "mimetype": "text/x-python",
   "name": "python",
   "nbconvert_exporter": "python",
   "pygments_lexer": "ipython3",
   "version": "3.7.4"
  }
 },
 "nbformat": 4,
 "nbformat_minor": 2
}
