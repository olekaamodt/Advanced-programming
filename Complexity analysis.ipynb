{
 "cells": [
  {
   "cell_type": "code",
   "execution_count": 10,
   "metadata": {},
   "outputs": [
    {
     "name": "stdout",
     "output_type": "stream",
     "text": [
      "123455\n"
     ]
    }
   ],
   "source": [
    "#bank account with public variables\n",
    "class BankAccount:\n",
    "    def __init__(self, number):\n",
    "        self.number = number\n",
    "        self.balance = 0\n",
    "    \n",
    "    def deposit(self,amount):\n",
    "        self.balance += amount\n",
    "        \n",
    "    def withdraw(self, amount):\n",
    "        self.balance  -= amount\n",
    "    \n",
    "    def print_balance(self):\n",
    "        print(self.balance)\n",
    "\n",
    "myAccount = BankAccount(123455)\n",
    "print(myAccount.number)"
   ]
  },
  {
   "cell_type": "code",
   "execution_count": 20,
   "metadata": {},
   "outputs": [
    {
     "name": "stdout",
     "output_type": "stream",
     "text": [
      "123455\n",
      "bankNumber changed\n",
      "2134567\n"
     ]
    }
   ],
   "source": [
    "#bankAccount with privatevariables\n",
    "class BankAccount2:\n",
    "    def __init__(self, number):\n",
    "        self.__number = number\n",
    "        self.__balance = 0\n",
    "    \n",
    "    def deposit(self,amount):\n",
    "        self.__balance += amount\n",
    "        \n",
    "    def withdraw(self, amount):\n",
    "        self.__balance  -= amount\n",
    "    \n",
    "    def print_balance(self):\n",
    "        print(self.__balance)\n",
    "    \n",
    "    def get_number(self):\n",
    "        return self.__number\n",
    "    \n",
    "    def set_number(self, number):\n",
    "        self.__number = number\n",
    "        return \"bankNumber changed\"\n",
    "        \n",
    "myAccount = BankAccount2(123455)\n",
    "print(myAccount.get_number())\n",
    "print(myAccount.set_number(2134567))\n",
    "print(myAccount.get_number())"
   ]
  },
  {
   "cell_type": "code",
   "execution_count": 27,
   "metadata": {},
   "outputs": [
    {
     "name": "stdout",
     "output_type": "stream",
     "text": [
      "Die roll value 4\n"
     ]
    }
   ],
   "source": [
    "from random import randint\n",
    "class Die:\n",
    "    def roll(self):\n",
    "        self.value = randint(1,6)\n",
    "\n",
    "class DicePlayer:\n",
    "    def play(self):\n",
    "        self.die = Die()\n",
    "        self.die.roll()\n",
    "        print(\"Die roll value\", self.die.value)\n",
    "        \n",
    "player = DicePlayer()\n",
    "player.play()"
   ]
  },
  {
   "cell_type": "code",
   "execution_count": 32,
   "metadata": {},
   "outputs": [
    {
     "name": "stdout",
     "output_type": "stream",
     "text": [
      "Student name:  Ole Kristian\n",
      "Department name:  infomedia\n"
     ]
    }
   ],
   "source": [
    "class Student:\n",
    "    def __init__(self, name, dept_name):\n",
    "        self.name = name\n",
    "        self.department = Department(dept_name)\n",
    "    \n",
    "    def print_info(self):\n",
    "        print(\"Student name: \", self.name)\n",
    "        print(\"Department name: \", self.department.dept_name)\n",
    "        \n",
    "class Department:\n",
    "    def __init__(self, dept_name):\n",
    "        self.dept_name = dept_name\n",
    "\n",
    "student1 = Student(\"Ole Kristian\", \"infomedia\")\n",
    "student1.print_info()"
   ]
  },
  {
   "cell_type": "code",
   "execution_count": 45,
   "metadata": {},
   "outputs": [
    {
     "name": "stdout",
     "output_type": "stream",
     "text": [
      "yearly income for Kåre is: 840000\n"
     ]
    }
   ],
   "source": [
    "#composition\n",
    "class Salary:\n",
    "    def __init__(self, m_pay):\n",
    "        self.m_pay = m_pay\n",
    "    \n",
    "    def compute_salary(self):\n",
    "        return self.m_pay * 12\n",
    "            \n",
    "class Engineer:\n",
    "    def __init__(self, name , salary):\n",
    "        self.name = name\n",
    "        self.salary = Salary(salary)\n",
    "    \n",
    "    def print_salary(self):\n",
    "        print(f\"yearly income for {self.name} is: {self.salary.compute_salary()}\")\n",
    "        \n",
    "\n",
    "engineer1 = Engineer(\"Kåre\", 70000) \n",
    "engineer1.print_salary()"
   ]
  },
  {
   "cell_type": "code",
   "execution_count": 47,
   "metadata": {},
   "outputs": [],
   "source": [
    "#Composition\n",
    "class B:\n",
    "    pass\n",
    "\n",
    "class A:\n",
    "    def __init__(self):\n",
    "        self.b = B()\n",
    "        \n",
    "a = A()"
   ]
  },
  {
   "cell_type": "code",
   "execution_count": 50,
   "metadata": {},
   "outputs": [],
   "source": [
    "#Aggregation\n",
    "class B:\n",
    "    pass\n",
    "\n",
    "class A:\n",
    "    def __init__(self, b):\n",
    "        self.b = b\n",
    "\n",
    "b = B()\n",
    "a = A(b)"
   ]
  },
  {
   "cell_type": "code",
   "execution_count": 2,
   "metadata": {},
   "outputs": [
    {
     "ename": "TypeError",
     "evalue": "Can't instantiate abstract class AbstractClass with abstract methods my_method",
     "output_type": "error",
     "traceback": [
      "\u001b[1;31m---------------------------------------------------------------------------\u001b[0m",
      "\u001b[1;31mTypeError\u001b[0m                                 Traceback (most recent call last)",
      "\u001b[1;32m<ipython-input-2-d9b467e22d76>\u001b[0m in \u001b[0;36m<module>\u001b[1;34m\u001b[0m\n\u001b[0;32m      7\u001b[0m         \u001b[1;32mpass\u001b[0m\u001b[1;33m\u001b[0m\u001b[1;33m\u001b[0m\u001b[0m\n\u001b[0;32m      8\u001b[0m \u001b[1;33m\u001b[0m\u001b[0m\n\u001b[1;32m----> 9\u001b[1;33m \u001b[0mmy_object\u001b[0m \u001b[1;33m=\u001b[0m \u001b[0mAbstractClass\u001b[0m\u001b[1;33m(\u001b[0m\u001b[1;33m)\u001b[0m\u001b[1;33m\u001b[0m\u001b[1;33m\u001b[0m\u001b[0m\n\u001b[0m",
      "\u001b[1;31mTypeError\u001b[0m: Can't instantiate abstract class AbstractClass with abstract methods my_method"
     ]
    }
   ],
   "source": [
    "#interface\n",
    "#gives error if you try to make an instabce of it\n",
    "from abc import ABC, abstractmethod\n",
    "class AbstractClass(ABC):\n",
    "    @abstractmethod\n",
    "    def my_method(self):\n",
    "        pass\n",
    "\n",
    "my_object = AbstractClass()"
   ]
  },
  {
   "cell_type": "code",
   "execution_count": 54,
   "metadata": {},
   "outputs": [
    {
     "name": "stdout",
     "output_type": "stream",
     "text": [
      "dog barks!\n",
      "Lion roars!\n"
     ]
    }
   ],
   "source": [
    "#interface\n",
    "class Animal(ABC):\n",
    "    @abstractmethod\n",
    "    def speak(self):\n",
    "        pass\n",
    "    \n",
    "class Dog(Animal):\n",
    "    def speak(self):\n",
    "        print(\"dog barks!\")\n",
    "\n",
    "class Lion(Animal):\n",
    "    def speak(self):\n",
    "        print(\"Lion roars!\")\n",
    "        \n",
    "dog = Dog()\n",
    "dog.speak()\n",
    "lion = Lion()\n",
    "lion.speak()"
   ]
  },
  {
   "cell_type": "code",
   "execution_count": 59,
   "metadata": {},
   "outputs": [
    {
     "name": "stdout",
     "output_type": "stream",
     "text": [
      "movie is playing\n"
     ]
    }
   ],
   "source": [
    "class DVDPlayer(ABC):\n",
    "    @abstractmethod\n",
    "    def insert_dvd(self):\n",
    "        pass\n",
    "    \n",
    "    def play_dvd(self):\n",
    "        pass\n",
    "    \n",
    "    def stop_dvd(self):\n",
    "        pass\n",
    "    \n",
    "    def print_state(self):\n",
    "        pass\n",
    "    \n",
    "class ZiDVDPlayer(DVDPlayer):\n",
    "    def insert_dvd(self, dvd):\n",
    "        self.dvd = dvd\n",
    "        \n",
    "    def play_dvd(self):\n",
    "        self.play = True\n",
    "        \n",
    "    def stop_dvd(self):\n",
    "        self.play = False\n",
    "    \n",
    "    def print_state(self):\n",
    "        if self.play == True:\n",
    "            print(\"movie is playing\")\n",
    "        else:\n",
    "            print(\"movie has stopped\")\n",
    "        \n",
    "my_dvd = ZiDVDPlayer()\n",
    "my_dvd.insert_dvd(\"kukkern12\")\n",
    "my_dvd.play_dvd()\n",
    "my_dvd.print_state()"
   ]
  },
  {
   "cell_type": "code",
   "execution_count": 10,
   "metadata": {},
   "outputs": [
    {
     "name": "stdout",
     "output_type": "stream",
     "text": [
      "playing test.mp4\n",
      "playing test.wmv\n"
     ]
    }
   ],
   "source": [
    "class VideoFile:\n",
    "    def __init__(self, name):\n",
    "        self.filename = name + self.extension\n",
    "\n",
    "class Mp4File(VideoFile):\n",
    "    extension = \".mp4\"\n",
    "\n",
    "    def play(self):\n",
    "        print(\"playing\", self.filename)\n",
    "\n",
    "\n",
    "class WmvFile(VideoFile):\n",
    "    extension = \".wmv\"\n",
    "\n",
    "    def play(self):\n",
    "        print(\"playing\", self.filename)\n",
    "\n",
    "\n",
    "my_mp4 = Mp4File(\"test\")\n",
    "my_wmv =  WmvFile(\"test\")\n",
    "\n",
    "video_list = [my_mp4, my_wmv]\n",
    "\n",
    "for video in video_list:\n",
    "    video.play()\n",
    "\n",
    "    "
   ]
  },
  {
   "cell_type": "code",
   "execution_count": null,
   "metadata": {},
   "outputs": [],
   "source": []
  }
 ],
 "metadata": {
  "kernelspec": {
   "display_name": "Python 3.8.1 64-bit",
   "language": "python",
   "name": "python38164bit08b0558196934a668e7733855a82e292"
  },
  "language_info": {
   "codemirror_mode": {
    "name": "ipython",
    "version": 3
   },
   "file_extension": ".py",
   "mimetype": "text/x-python",
   "name": "python",
   "nbconvert_exporter": "python",
   "pygments_lexer": "ipython3",
   "version": "3.8.1"
  }
 },
 "nbformat": 4,
 "nbformat_minor": 2
}
