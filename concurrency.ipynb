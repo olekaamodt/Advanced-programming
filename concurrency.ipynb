{
 "cells": [
  {
   "cell_type": "code",
   "execution_count": 2,
   "metadata": {},
   "outputs": [],
   "source": [
    "import numpy as np"
   ]
  },
  {
   "cell_type": "code",
   "execution_count": 3,
   "metadata": {},
   "outputs": [
    {
     "name": "stdout",
     "output_type": "stream",
     "text": [
      "19\n",
      "16\n",
      "25\n",
      "60\n"
     ]
    }
   ],
   "source": [
    "# n +n^2 additions\n",
    "my_matrix = [[1,3,4,5,6],[2,3,6,3,2],[2,3,5,7,8]]\n",
    "\n",
    "\n",
    "def get_sum(matrix):\n",
    "    total_sum = 0\n",
    "    for i in matrix:\n",
    "        row_sum = 0\n",
    "        for j in i:\n",
    "            row_sum += j\n",
    "                \n",
    "        print(row_sum)\n",
    "        total_sum += row_sum\n",
    "    return total_sum\n",
    "        \n",
    "print(get_sum(my_matrix))"
   ]
  },
  {
   "cell_type": "code",
   "execution_count": 4,
   "metadata": {},
   "outputs": [
    {
     "name": "stdout",
     "output_type": "stream",
     "text": [
      "start sleep\n",
      "awake\n",
      "start sleep\n",
      "awake\n",
      "2.0sec\n"
     ]
    }
   ],
   "source": [
    "#checking runtime without threading\n",
    "def my_function(sleep_time):\n",
    "    print(\"start sleep\")\n",
    "    time.sleep(sleep_time)\n",
    "    print(\"awake\")\n",
    "    \n",
    "start = time.perf_counter()\n",
    "my_function(1)\n",
    "my_function(1)\n",
    "\n",
    "end = time.perf_counter()\n",
    "print(str(round(end - start, 1)) + \"sec\")"
   ]
  },
  {
   "cell_type": "code",
   "execution_count": 7,
   "metadata": {},
   "outputs": [
    {
     "name": "stdout",
     "output_type": "stream",
     "text": [
      "start sleep\n",
      "start sleep\n",
      "awake\n",
      "awake\n",
      "1.0sec\n"
     ]
    }
   ],
   "source": [
    "#using threading to improve runtime\n",
    "from threading import Thread\n",
    "import time\n",
    "\n",
    "\n",
    "\"\"\"my_thread = Thread(group = None\n",
    "                  target = my_function,\n",
    "                  name = None,\n",
    "                  args = (),\n",
    "                  kwargs={})\"\"\"\n",
    "start = time.perf_counter()\n",
    "\n",
    "thread1 = Thread(target=my_function, args=[1])\n",
    "thread2 = Thread(target=my_function, args=[1])\n",
    "\n",
    "thread1.start()\n",
    "thread2.start()\n",
    "thread1.join()\n",
    "thread2.join()\n",
    "end = time.perf_counter()\n",
    "print(str(round(end - start, 1)) + \"sec\")"
   ]
  },
  {
   "cell_type": "code",
   "execution_count": 8,
   "metadata": {},
   "outputs": [],
   "source": [
    "def download_image(img_url,img_name):\n",
    "    img_bytes = requests.get(img_url).content\n",
    "    \n",
    "    with open(img_name, \"wb\") as img_file:\n",
    "        img_file.write(img_bytes)\n",
    "        print(img_name, \" is downloaded\")"
   ]
  },
  {
   "cell_type": "code",
   "execution_count": null,
   "metadata": {},
   "outputs": [],
   "source": [
    "thread_list = []\n",
    "for i in range(5):\n",
    "    img_name = \"img_name-\" + str(n) + \".jpg\"\n",
    "    thread = Thread(target=download_image, args=[img_urls[n], img_name])"
   ]
  }
 ],
 "metadata": {
  "kernelspec": {
   "display_name": "Python 3",
   "language": "python",
   "name": "python3"
  },
  "language_info": {
   "codemirror_mode": {
    "name": "ipython",
    "version": 3
   },
   "file_extension": ".py",
   "mimetype": "text/x-python",
   "name": "python",
   "nbconvert_exporter": "python",
   "pygments_lexer": "ipython3",
   "version": "3.7.4"
  }
 },
 "nbformat": 4,
 "nbformat_minor": 2
}
