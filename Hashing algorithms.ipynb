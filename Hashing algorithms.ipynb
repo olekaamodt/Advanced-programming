{
 "cells": [
  {
   "cell_type": "code",
   "execution_count": 23,
   "metadata": {},
   "outputs": [
    {
     "name": "stdout",
     "output_type": "stream",
     "text": [
      "my hash value for car 1: 180704594400\n",
      "my hash value for car 2: 161222197500\n",
      "180704594400\n"
     ]
    }
   ],
   "source": [
    "class Car:\n",
    "    def __init__(self, model, brand):\n",
    "        self.model = model\n",
    "        self.brand = brand\n",
    "        \n",
    "    def __eq__(self, other):\n",
    "        return self.model == other.model and self.brand == other.brand\n",
    "    \n",
    "    def __hash__(self):\n",
    "        hash_value = 1\n",
    "        for i in list(self.brand):\n",
    "            if hash_value == 1:\n",
    "                hash_value = self.model * ord(i)\n",
    "            else:\n",
    "                hash_value = hash_value * ord(i)\n",
    "        return hash_value\n",
    "    \n",
    "my_car1 = Car(2020, \"Benz\")\n",
    "my_car2 = Car(2019, \"Audi\")\n",
    "print(f\"my hash value for car 1: {hash(my_car1)}\")\n",
    "print(f\"my hash value for car 2: {hash(my_car2)}\")\n",
    "print(my_car1.__hash__())"
   ]
  },
  {
   "cell_type": "code",
   "execution_count": 21,
   "metadata": {},
   "outputs": [],
   "source": [
    "voted = dict()\n",
    "\n",
    "def check_voter(name):\n",
    "    if voted.get(name):\n",
    "        print(\"Do not let them vote\")\n",
    "    else:\n",
    "        voted[name] = True\n",
    "        print(\"let them vote\")"
   ]
  },
  {
   "cell_type": "code",
   "execution_count": 32,
   "metadata": {},
   "outputs": [
    {
     "name": "stdout",
     "output_type": "stream",
     "text": [
      "120\n"
     ]
    }
   ],
   "source": [
    "class Employee:\n",
    "    def __init__(self, id_number):\n",
    "        self.id_number = id_number\n",
    "    \n",
    "    def __eq__(self, other):\n",
    "        return self.id_number == other.id_number\n",
    "    \n",
    "    def __hash__(self):\n",
    "        value = 1\n",
    "        for i in list(str(self.id_number)):\n",
    "            value = value * (int(i) % 11)\n",
    "        return value\n",
    "\n",
    "ola = Employee(12345)\n",
    "    \n",
    "print(hash(ola))"
   ]
  },
  {
   "cell_type": "code",
   "execution_count": 40,
   "metadata": {},
   "outputs": [],
   "source": [
    "import hashlib as h1"
   ]
  },
  {
   "cell_type": "code",
   "execution_count": 41,
   "metadata": {},
   "outputs": [
    {
     "name": "stdout",
     "output_type": "stream",
     "text": [
      "1s) hash by md5 1c4929652aa67a262db42c6b20cffb9a\n",
      "2s) hash by md5 1c4929652aa67a262db42c6b20cffb9a\n",
      "3s) hash by md5 1c4929652aa67a262db42c6b20cffb9a\n"
     ]
    }
   ],
   "source": [
    "def hash_it_by_md5(user_str):\n",
    "    hash_str = h1.md5(user_str.encode()).hexdigest()\n",
    "    return hash_str\n",
    "\n",
    "print(\"1s) hash by md5\", hash_it_by_md5(\"Hello Bergen\"))\n",
    "print(\"2s) hash by md5\", hash_it_by_md5(\"Hello Bergen\"))\n",
    "print(\"3s) hash by md5\", hash_it_by_md5(\"Hello Bergen\"))"
   ]
  },
  {
   "cell_type": "code",
   "execution_count": 43,
   "metadata": {},
   "outputs": [
    {
     "name": "stdout",
     "output_type": "stream",
     "text": [
      "1s) hash by md5 a527128b69070db7c29dbe7694c57db1898c1a2e\n",
      "2s) hash by md5 a527128b69070db7c29dbe7694c57db1898c1a2e\n",
      "3s) hash by md5 a527128b69070db7c29dbe7694c57db1898c1a2e\n"
     ]
    }
   ],
   "source": [
    "def hash_it_by_sha(user_str):\n",
    "    hash_str = h1.sha1(user_str.encode()).hexdigest()\n",
    "    return hash_str\n",
    "\n",
    "print(\"1s) hash by md5\", hash_it_by_sha(\"Hello Bergen\"))\n",
    "print(\"2s) hash by md5\", hash_it_by_sha(\"Hello Bergen\"))\n",
    "print(\"3s) hash by md5\", hash_it_by_sha(\"Hello Bergen\"))"
   ]
  },
  {
   "cell_type": "code",
   "execution_count": 44,
   "metadata": {},
   "outputs": [
    {
     "name": "stdout",
     "output_type": "stream",
     "text": [
      "Please write in your password \n",
      "test\n",
      "your password is;  a94a8fe5ccb19ba61c4c0873d391e987982fbbd3\n",
      "the size of your password is:  40\n",
      "To login, re - enter password\n",
      "test\n",
      "password is correct\n"
     ]
    }
   ],
   "source": [
    "#bruker password klassen til å skrive inn et passord for og så skrive inn passordet på nytt for å sjekke om det er riktig\n",
    "class Password:\n",
    "    def __init__(self):\n",
    "        user_pass = input(\"Please write in your password \\n\")\n",
    "        self.hash_pass = self.hash_it(user_pass)\n",
    "        self.password_list = []\n",
    "    \n",
    "    def hash_it(self,user_pass):\n",
    "        self.hash_pass = h1.sha1(user_pass.encode()).hexdigest()\n",
    "        \n",
    "        return self.hash_pass\n",
    "    \n",
    "    def print_it(self):\n",
    "        print(\"your password is; \", self.hash_pass)\n",
    "        print(\"the size of your password is: \", len(self.hash_pass))\n",
    "\n",
    "    def log_in(self):\n",
    "        entered_pass = input(\"To login, re - enter password\\n\")\n",
    "        if self.hash_it(entered_pass) == self.hash_pass:\n",
    "            print(\"password is correct\")\n",
    "        else:\n",
    "            print(\"password is not correct\")\n",
    "        \n",
    "        \n",
    "my_password = Password()\n",
    "my_password.print_it()\n",
    "my_password.log_in()"
   ]
  },
  {
   "cell_type": "code",
   "execution_count": null,
   "metadata": {},
   "outputs": [],
   "source": []
  }
 ],
 "metadata": {
  "kernelspec": {
   "display_name": "Python 3",
   "language": "python",
   "name": "python3"
  },
  "language_info": {
   "codemirror_mode": {
    "name": "ipython",
    "version": 3
   },
   "file_extension": ".py",
   "mimetype": "text/x-python",
   "name": "python",
   "nbconvert_exporter": "python",
   "pygments_lexer": "ipython3",
   "version": "3.7.4"
  }
 },
 "nbformat": 4,
 "nbformat_minor": 2
}
